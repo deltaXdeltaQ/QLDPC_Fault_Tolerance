{
 "cells": [
  {
   "cell_type": "code",
   "execution_count": 13,
   "id": "c17ea9bb",
   "metadata": {},
   "outputs": [],
   "source": [
    "import numpy as np\n",
    "import matplotlib.pyplot as plt\n",
    "from graph_tools import Graph\n",
    "import networkx as nx\n",
    "import random\n",
    "import copy\n",
    "import time\n",
    "import json\n",
    "\n",
    "import ldpc\n",
    "import bposd\n",
    "\n",
    "from bposd.hgp import hgp\n",
    "import pickle\n",
    "\n",
    "import multiprocessing as mp\n",
    "import random\n",
    "from bposd.css import css_code\n",
    "from ldpc import bp_decoder\n",
    "from bposd import bposd_decoder\n",
    "from ldpc.codes import ring_code\n",
    "\n",
    "from scipy.optimize import curve_fit\n",
    "import stim\n",
    "\n",
    "import sys\n",
    "sys.path.append(\"./src/\")\n",
    "from ErrorPlugin import *\n",
    "\n",
    "from Decoders_SpaceTime import *\n",
    "from Simulators_SpaceTime import *\n",
    "\n",
    "# plt.style.use('/Users/qian/Documents/Python/PaperDoubleFig.mplstyle')"
   ]
  },
  {
   "cell_type": "code",
   "execution_count": 36,
   "id": "dac2785f",
   "metadata": {},
   "outputs": [],
   "source": [
    "surface_d3 = hgp(ring_code(3), ring_code(3))"
   ]
  },
  {
   "cell_type": "code",
   "execution_count": 48,
   "id": "c3a7b76f",
   "metadata": {},
   "outputs": [],
   "source": [
    "eval_code = surface_d3 # any quantum code using the qcode object\n",
    "eval_p = 1e-3\n",
    "\n",
    "p = eval_p\n",
    "# circuit error params \n",
    "circuit_error_params = {\"p_i\": 0, \"p_state_p\": 0, \"p_m\": 0, \"p_CX\": 1, \"p_idling_gate\": 0}\n",
    "# error params = circuit_error_params*p\n",
    "error_params = {\"p_i\": circuit_error_params[\"p_i\"]*p, \"p_state_p\": circuit_error_params[\"p_state_p\"]*p, \"p_m\": circuit_error_params[\"p_m\"]*p, \"p_CX\":circuit_error_params[\"p_CX\"]*p, \n",
    "                \"p_idling_gate\": circuit_error_params[\"p_idling_gate\"]*p}\n",
    "\n",
    "num_rep = 3\n",
    "# the total number of cycles, important: always set this one to be 3*N + 1 (N is the number of rounds), \n",
    "# in addition, it only takes odd values\n",
    "num_cycles = 13 \n",
    "eval_logical_type = 'Z' # only evaluating the logical Z failures\n",
    "circuit_type = 'coloration' \n",
    "\n",
    "# generate the circuit fault graph using stim\n",
    "circuit_simulator = CodeSimulator_Circuit_SpaceTime(code=eval_code, decoder1_z=None, decoder1_x=None, \n",
    "                        decoder2_z=None, decoder2_x=None, \n",
    "                        p=p, num_cycles=num_cycles, num_rep=num_rep, \n",
    "                        error_params=error_params, eval_logical_type=eval_logical_type, \n",
    "                        circuit_type = circuit_type, rand_scheduling_seed = 1)\n",
    "\n",
    "circuit_simulator._generate_circuit() # generate the circuit and fault circuit\n",
    "circuit_simulator._generate_circuit_graph() # generate the spacetime code, priors, etc.\n",
    "circuit_fault_graphs = circuit_simulator.circuit_graph\n",
    "\n",
    "# set up the decoder\n",
    "max_iter = int(eval_code.N/10)\n",
    "bp_method=\"minimum_sum\"\n",
    "ms_scaling_factor=0.625\n",
    "osd_method=\"osd_e\"\n",
    "osd_order = 10\n",
    "\n",
    "# BP spacetime decoder\n",
    "dec1_z = ST_BP_Decoder_Circuit(h=circuit_fault_graphs['h1'], channel_probs=circuit_fault_graphs['channel_ps1'], \n",
    "                     max_iter=max_iter, bp_method=bp_method, ms_scaling_factor=ms_scaling_factor)\n",
    "\n",
    "# the BPOSD decoder for the final transversal round\n",
    "dec2_z = ST_BPOSD_Decoder_Circuit(h=circuit_fault_graphs['h2'], channel_probs=circuit_fault_graphs['channel_ps2'], \n",
    "                     max_iter=max_iter, bp_method=bp_method, ms_scaling_factor=ms_scaling_factor, \n",
    "                                 osd_method=osd_method, osd_order=osd_order)\n",
    "\n",
    "circuit_simulator.decoder1_z = dec1_z \n",
    "circuit_simulator.decoder2_z = dec2_z\n",
    "\n",
    "# eval_wer_per_code_list.append(circuit_simulator.WordErrorRate(num_samples=num_samples)[0])"
   ]
  },
  {
   "cell_type": "code",
   "execution_count": 47,
   "id": "d3d10d55",
   "metadata": {},
   "outputs": [
    {
     "data": {
      "text/plain": [
       "0.00019299501269032238"
      ]
     },
     "execution_count": 47,
     "metadata": {},
     "output_type": "execute_result"
    }
   ],
   "source": [
    "# run the simulation and evaluate the WERs\n",
    "num_samples = 10000\n",
    "circuit_simulator.WordErrorRate(num_samples=num_samples)[0]"
   ]
  },
  {
   "cell_type": "code",
   "execution_count": 27,
   "id": "8f55ecc5",
   "metadata": {},
   "outputs": [],
   "source": [
    "# generate the space-time tanner graph out of a stim circuit for BP\n",
    "fault_circuit = circuit_simulator.fault_circuit\n",
    "num_rounds = 4\n",
    "num_rep = 3\n",
    "num_logicals = eval_code.lx.shape[0]\n",
    "H_list, L_list, channel_prob_list = GenFaultHyperGraph(str(fault_circuit.detector_error_model(flatten_loops=True)), num_rounds=num_rounds,\n",
    "                                                               num_rep=num_rep, num_logicals=num_logicals)"
   ]
  }
 ],
 "metadata": {
  "kernelspec": {
   "display_name": "Python 3 (ipykernel)",
   "language": "python",
   "name": "python3"
  },
  "language_info": {
   "codemirror_mode": {
    "name": "ipython",
    "version": 3
   },
   "file_extension": ".py",
   "mimetype": "text/x-python",
   "name": "python",
   "nbconvert_exporter": "python",
   "pygments_lexer": "ipython3",
   "version": "3.7.11"
  }
 },
 "nbformat": 4,
 "nbformat_minor": 5
}
